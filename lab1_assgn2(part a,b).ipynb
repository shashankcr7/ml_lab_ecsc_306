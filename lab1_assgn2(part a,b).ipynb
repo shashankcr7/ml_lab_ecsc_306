{
 "cells": [
  {
   "cell_type": "code",
   "execution_count": 2,
   "metadata": {},
   "outputs": [
    {
     "name": "stdout",
     "output_type": "stream",
     "text": [
      "Enter input size:5\n",
      "Enter x array elemets:\n",
      "1\n",
      "2\n",
      "3\n",
      "4\n",
      "5\n",
      "Enter y array elemets:\n",
      "6\n",
      "7\n",
      "8\n",
      "9\n",
      "10\n",
      "[1.0, 2.0, 3.0, 4.0, 5.0]\n",
      "[6.0, 7.0, 8.0, 9.0, 10.0]\n",
      "[1.0, 2.0, 3.0, 4.0, 5.0]\n",
      "[6.0, 7.0, 8.0, 9.0, 10.0]\n",
      "Mean of x:\n",
      "3.0\n",
      "Mean of y:\n",
      "8.0\n",
      "Variance of x:\n",
      "2.0\n",
      "Covariance: \n",
      "2.5\n",
      "Value of m :\n",
      "1.25\n",
      "Value of c: \n",
      "4.25\n"
     ]
    },
    {
     "data": {
      "image/png": "[encoded data removed]",
      "text/plain": [
       "<matplotlib.figure.Figure at 0x7f20185466d8>"
      ]
     },
     "metadata": {},
     "output_type": "display_data"
    },
    {
     "data": {
      "image/png": "[encoded data removed]",
      "text/plain": [
       "<matplotlib.figure.Figure at 0x7f20184daa20>"
      ]
     },
     "metadata": {},
     "output_type": "display_data"
    }
   ],
   "source": [
    "##read array x and y\n",
    "import tensorflow as tf\n",
    "with tf.name_scope(\"array_x\"):\n",
    "    x = list()\n",
    "    n = int(input(\"Enter input size:\"))\n",
    "    print(\"Enter x array elemets:\")\n",
    "    for i in range(n):\n",
    "        x.append(float(input()))\n",
    "        \n",
    "with tf.name_scope(\"array_y\"):\n",
    "    y = list()\n",
    "    #n = int(input(\"Enter input size:\"))\n",
    "    print(\"Enter y array elemets:\")\n",
    "    for i in range(n):\n",
    "        y.append(float(input()))        \n",
    "\n",
    "\n",
    "    print(x)\n",
    "    print(y)\n",
    "    #print(mean_x)\n",
    "    #print(sess.run(mean_x))\n",
    "    #writer.close()\n",
    "##mean of x and y\n",
    "with tf.name_scope(\"mean_x\"):\n",
    "    mean_x = tf.reduce_mean(x)\n",
    "with tf.name_scope(\"mean_x\"):\n",
    "    mean_y = tf.reduce_mean(y)\n",
    "sess = tf.Session()\n",
    "    #writer = tf.summary.FileWriter(\"/tmp/tboard/output12345\", sess.graph)\n",
    "print(x)\n",
    "print(y)\n",
    "print(\"Mean of x:\")\n",
    "print(sess.run(mean_x))\n",
    "print(\"Mean of y:\")\n",
    "print(sess.run(mean_y))\n",
    "    #writer.close()\n",
    "## variance of x\n",
    "with tf.name_scope(\"Variance_x\"):\n",
    "    var_x = tf.constant(0.0)\n",
    "    for i in range(n):\n",
    "        a = tf.subtract(x[i],mean_x, name=\"x_minus_mean_of_x\")\n",
    "        b = tf.square(a, name=\"square_of_x_minus_mean_of_x\")\n",
    "        var_x = tf.add(var_x,b, name=\"variance_of_x\")\n",
    "    x_var = tf.realdiv(var_x,n,name=\"var_x\")\n",
    "#with tf.Session() as sess:\n",
    "\n",
    "    #writer = tf.summary.FileWriter(\"/tmp/tboard/output12346\", sess.graph)\n",
    "    print(\"Variance of x:\")\n",
    "print(sess.run(x_var))\n",
    "    #writer.close()\n",
    "##covariance of x,y\n",
    "with tf.name_scope(\"Covariance\"):\n",
    "    covar_xy = tf.constant(0.0)\n",
    "    for i in range(n):\n",
    "        a = tf.subtract(x[i],mean_x)\n",
    "        b = tf.subtract(y[i],mean_y)\n",
    "        c = tf.multiply(a,b)\n",
    "        covar_xy = tf.add(covar_xy,c)\n",
    "    d = tf.subtract(float(n),1.0)\n",
    "    covar_xy = tf.realdiv(covar_xy,d, name=\"cov_of_xy\")\n",
    "    print(\"Covariance: \")\n",
    "    print(sess.run(covar_xy))\n",
    "## calculate slope:m\n",
    "with tf.name_scope(\"m\"):\n",
    "    m = tf.realdiv(covar_xy,x_var)\n",
    "    print(\"Value of m :\")\n",
    "    print(sess.run(m))\n",
    "## calculate c\n",
    "with tf.name_scope(\"c\"):\n",
    "    mx = tf.multiply(m,mean_x)\n",
    "    c = tf.subtract(mean_y,mx, name=\"constant_c\")\n",
    "    print(\"Value of c: \")\n",
    "print(sess.run(c))\n",
    "import matplotlib.pyplot as plt\n",
    "#with tf.Session() as sess:\n",
    "plt.plot(x,y,\"ro\")\n",
    "plt.show()\n",
    "plt.plot(x,y)\n",
    "plt.show()"
   ]
  },
  {
   "cell_type": "code",
   "execution_count": null,
   "metadata": {
    "collapsed": true
   },
   "outputs": [],
   "source": []
  }
 ],
 "metadata": {
  "kernelspec": {
   "display_name": "Python 3",
   "language": "python",
   "name": "python3"
  },
  "language_info": {
   "codemirror_mode": {
    "name": "ipython",
    "version": 3
   },
   "file_extension": ".py",
   "mimetype": "text/x-python",
   "name": "python",
   "nbconvert_exporter": "python",
   "pygments_lexer": "ipython3",
   "version": "3.6.1"
  }
 },
 "nbformat": 4,
 "nbformat_minor": 2
}
